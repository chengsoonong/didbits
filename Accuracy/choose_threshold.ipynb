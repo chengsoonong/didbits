{
 "cells": [
  {
   "cell_type": "markdown",
   "metadata": {},
   "source": [
    "# Choosing a threshold for classification\n",
    "\n",
    "There are three types of output that could come out of a classifier: the score, the probability of positive, and the classification.\n",
    "\n",
    "This notebook illustrates how to select a threshold on the score to generate a classification.\n",
    "\n",
    "$\\newcommand{cdf}{\\mathcal{F}}$"
   ]
  },
  {
   "cell_type": "code",
   "execution_count": 1,
   "metadata": {},
   "outputs": [],
   "source": [
    "import numpy as np\n",
    "import matplotlib.pyplot as plt\n",
    "\n",
    "%matplotlib inline"
   ]
  },
  {
   "cell_type": "markdown",
   "metadata": {},
   "source": [
    "Assume the output of a classifier is Gaussian distributed per class. In other words, the class conditional densities are Gaussian. But assume that the mean prediction is not centered around zero."
   ]
  },
  {
   "cell_type": "code",
   "execution_count": 2,
   "metadata": {},
   "outputs": [
    {
     "name": "stdout",
     "output_type": "stream",
     "text": [
      "Mean values are 1.1523329279795198 (overall), 2.888422453842282 (positive) and 0.9787239753932433 (negative)\n"
     ]
    },
    {
     "data": {
      "image/png": "[encoded data removed]",
      "text/plain": [
       "<Figure size 432x288 with 1 Axes>"
      ]
     },
     "metadata": {
      "needs_background": "light"
     },
     "output_type": "display_data"
    }
   ],
   "source": [
    "num_pos = 100\n",
    "num_neg = 1000\n",
    "y = np.concatenate([-np.ones(num_neg), np.ones(num_pos)])\n",
    "pos_idx = np.where(y==1)[0]\n",
    "neg_idx = np.where(y==-1)[0]\n",
    "\n",
    "def gauss_pos(num_samples, mean=3, stddev=0.5):\n",
    "    return np.random.normal(loc=mean, scale=stddev, size=num_samples)\n",
    "\n",
    "def gauss_neg(num_samples, mean=1, stddev=1):\n",
    "    return np.random.normal(loc=mean, scale=stddev, size=num_samples)\n",
    "\n",
    "X = np.concatenate([gauss_neg(num_neg), gauss_pos(num_pos)])\n",
    "print('Mean values are {} (overall), {} (positive) and {} (negative)'.format(np.mean(X), \n",
    "                                                                             np.mean(X[pos_idx]), \n",
    "                                                                             np.mean(X[neg_idx])))\n",
    "\n",
    "fig = plt.figure()\n",
    "ax = fig.add_subplot(111)\n",
    "ax.hist(X[pos_idx], bins=10, color='red', alpha=0.6)\n",
    "_ = ax.hist(X[neg_idx], bins=20, color='blue', alpha=0.6)"
   ]
  },
  {
   "cell_type": "markdown",
   "metadata": {},
   "source": [
    "Fit a Gaussian around each class conditional density"
   ]
  },
  {
   "cell_type": "code",
   "execution_count": 3,
   "metadata": {},
   "outputs": [],
   "source": [
    "def gauss_fit(data):\n",
    "    mean = np.mean(data)\n",
    "    stddev = np.std(data)\n",
    "    return mean, stddev\n",
    "\n"
   ]
  },
  {
   "cell_type": "markdown",
   "metadata": {},
   "source": [
    "## Derivation of confusion matrix based on parametric conditional densities\n",
    "\n",
    "Based on a continuous decision threshold $t$, let $\\cdf_+(t)$ and $\\cdf_−(t)$ denote the resulting cumulative distribution functions of the positive and negative populations of decision values, respectively. Further, let $\\alpha \\in (0, 1)$ be the fraction of positive examples. The confusion matrix can then be rewritten in a parametric form:\n",
    "\n",
    "| conf. matrix  | actual $+$ | actual $-$ |\n",
    "|:--------------|:----------:|:----------:|\n",
    "| predicted $+$ | $\\alpha(1-\\cdf_+(t))$ | $(1-\\alpha)(1-\\cdf_-(t))$ |\n",
    "| predicted $-$ | $\\alpha\\cdf_+(t)$ | $(1-\\alpha)\\cdf_-(t)$ |\n",
    "| total | $\\alpha$ | $1-\\alpha $ |\n",
    "\n",
    "Reference:\n",
    "\n",
    "*Kay H. Brodersen, Cheng Soon Ong, Klaas E. Stephan and Joachim M. Buhmann*\n",
    "The binormal assumption on precision-recall curves\n",
    "*International Conference on Pattern Recognition 2010*"
   ]
  },
  {
   "cell_type": "markdown",
   "metadata": {},
   "source": [
    "### Find a threshold that balances false positive and false negative rates\n",
    "\n",
    "In other words, find $t$ such that\n",
    "$$(1-\\alpha)(1-\\cdf_-(t)) = \\alpha\\cdf_+(t).$$\n",
    "Rearranging\n",
    "$$ \\frac{\\cdf_+(t)}{1-\\cdf_-(t)} = \\frac{1}{\\alpha} - 1 $$"
   ]
  },
  {
   "cell_type": "code",
   "execution_count": 4,
   "metadata": {},
   "outputs": [],
   "source": [
    "from scipy.stats import norm"
   ]
  },
  {
   "cell_type": "code",
   "execution_count": 5,
   "metadata": {},
   "outputs": [],
   "source": [
    "pos_mean, pos_stddev = gauss_fit(X[pos_idx])\n",
    "pos_fit = norm(loc=pos_mean, scale=pos_stddev)\n",
    "neg_mean, neg_stddev = gauss_fit(X[neg_idx])\n",
    "neg_fit = norm(loc=neg_mean, scale=neg_stddev)"
   ]
  },
  {
   "cell_type": "markdown",
   "metadata": {},
   "source": [
    "### Illustration of how the values look like"
   ]
  },
  {
   "cell_type": "code",
   "execution_count": 6,
   "metadata": {},
   "outputs": [
    {
     "name": "stdout",
     "output_type": "stream",
     "text": [
      "0.09090909090909091 10.0\n"
     ]
    }
   ],
   "source": [
    "min_x = np.min(X)\n",
    "max_x = np.max(X)\n",
    "t_vals = np.arange(min_x, max_x, 0.01)\n",
    "tail_ratio = pos_fit.cdf(t_vals)/neg_fit.sf(t_vals)\n",
    "\n",
    "alpha = float(num_pos)/float(num_pos+num_neg)\n",
    "target_ratio = 1/alpha - 1\n",
    "print(alpha, target_ratio)"
   ]
  },
  {
   "cell_type": "code",
   "execution_count": 7,
   "metadata": {},
   "outputs": [
    {
     "data": {
      "text/plain": [
       "(2, 3)"
      ]
     },
     "execution_count": 7,
     "metadata": {},
     "output_type": "execute_result"
    },
    {
     "data": {
      "image/png": "[encoded data removed]",
      "text/plain": [
       "<Figure size 432x288 with 1 Axes>"
      ]
     },
     "metadata": {
      "needs_background": "light"
     },
     "output_type": "display_data"
    }
   ],
   "source": [
    "fig = plt.figure()\n",
    "ax = fig.add_subplot(111)\n",
    "ax.plot(t_vals, tail_ratio, 'b')\n",
    "ax.plot([min_x, max_x], [target_ratio, target_ratio], 'r--')\n",
    "ax.set_ylim([0, 2*target_ratio])\n",
    "ax.set_xlim([2,3])"
   ]
  },
  {
   "cell_type": "markdown",
   "metadata": {},
   "source": [
    "### Use bisection to find the crossing"
   ]
  },
  {
   "cell_type": "code",
   "execution_count": 8,
   "metadata": {},
   "outputs": [],
   "source": [
    "from scipy.optimize import bisect"
   ]
  },
  {
   "cell_type": "code",
   "execution_count": 9,
   "metadata": {},
   "outputs": [
    {
     "name": "stdout",
     "output_type": "stream",
     "text": [
      "2.7383500400319116\n"
     ]
    }
   ],
   "source": [
    "def cost(t, pos_fit, neg_fit, alpha):\n",
    "    target_ratio = 1/alpha - 1\n",
    "    tail_ratio = pos_fit.cdf(t)/neg_fit.sf(t)\n",
    "    return tail_ratio - target_ratio\n",
    "\n",
    "threshold = bisect(cost, neg_mean, pos_mean, args=(pos_fit, neg_fit, alpha)) \n",
    "print(threshold)"
   ]
  },
  {
   "cell_type": "markdown",
   "metadata": {},
   "source": [
    "## Example classifier from sklearn"
   ]
  },
  {
   "cell_type": "code",
   "execution_count": 10,
   "metadata": {},
   "outputs": [],
   "source": [
    "from sklearn.datasets import load_breast_cancer\n",
    "from sklearn.linear_model import LogisticRegression\n",
    "from sklearn.model_selection import train_test_split\n",
    "\n",
    "np.random.seed(123)"
   ]
  },
  {
   "cell_type": "code",
   "execution_count": 11,
   "metadata": {},
   "outputs": [
    {
     "name": "stdout",
     "output_type": "stream",
     "text": [
      "(569, 30) (569,)\n",
      "[0 1]\n"
     ]
    }
   ],
   "source": [
    "X, y = load_breast_cancer(return_X_y=True)\n",
    "print(X.shape, y.shape)\n",
    "print(np.unique(y))\n"
   ]
  },
  {
   "cell_type": "markdown",
   "metadata": {},
   "source": [
    "Split into training and test sets"
   ]
  },
  {
   "cell_type": "code",
   "execution_count": 12,
   "metadata": {},
   "outputs": [],
   "source": [
    "X_train, X_test, y_train, y_test = train_test_split(X, y)\n",
    "\n",
    "# positive and negative indices on the test set\n",
    "pos_idx = np.where(y_test==1)[0]\n",
    "neg_idx = np.where(y_test==0)[0]"
   ]
  },
  {
   "cell_type": "markdown",
   "metadata": {},
   "source": [
    "Create a ```sklearn``` ```LogisticRegression``` classifier, and get the scores"
   ]
  },
  {
   "cell_type": "code",
   "execution_count": 13,
   "metadata": {},
   "outputs": [
    {
     "name": "stdout",
     "output_type": "stream",
     "text": [
      "0.46572970872463704\n"
     ]
    }
   ],
   "source": [
    "logreg = LogisticRegression(C=1e5, solver='lbfgs')\n",
    "\n",
    "# Create an instance of classifier and fit the data.\n",
    "logreg.fit(X_train, y_train)\n",
    "\n",
    "# Compute the score of the linear function\n",
    "score_lr = logreg.decision_function(X_test)\n",
    "\n",
    "# The threshold for logistic regression\n",
    "print(logreg.intercept_[0])"
   ]
  },
  {
   "cell_type": "markdown",
   "metadata": {},
   "source": [
    "Plot the histograms of per class scores. We can see from the histograms that the **Gaussian fit is not really a very good assumption**."
   ]
  },
  {
   "cell_type": "code",
   "execution_count": 14,
   "metadata": {},
   "outputs": [
    {
     "data": {
      "image/png": "[encoded data removed]",
      "text/plain": [
       "<Figure size 432x288 with 1 Axes>"
      ]
     },
     "metadata": {
      "needs_background": "light"
     },
     "output_type": "display_data"
    }
   ],
   "source": [
    "fig = plt.figure()\n",
    "ax = fig.add_subplot(111)\n",
    "ax.hist(score_lr[pos_idx], bins=10, color='red', alpha=0.6)\n",
    "_ = ax.hist(score_lr[neg_idx], bins=20, color='blue', alpha=0.6)"
   ]
  },
  {
   "cell_type": "markdown",
   "metadata": {},
   "source": [
    "Fit Gaussians on the class conditional scores of logistic regression"
   ]
  },
  {
   "cell_type": "code",
   "execution_count": 15,
   "metadata": {},
   "outputs": [
    {
     "name": "stdout",
     "output_type": "stream",
     "text": [
      "5.19437536709138 2.090576671099836\n",
      "-14.42410475054659 15.476974968497286\n"
     ]
    }
   ],
   "source": [
    "pos_mean, pos_stddev = gauss_fit(score_lr[pos_idx])\n",
    "pos_fit = norm(loc=pos_mean, scale=pos_stddev)\n",
    "print(pos_mean, pos_stddev)\n",
    "\n",
    "neg_mean, neg_stddev = gauss_fit(score_lr[neg_idx])\n",
    "neg_fit = norm(loc=neg_mean, scale=neg_stddev)\n",
    "print(neg_mean, neg_stddev)\n"
   ]
  },
  {
   "cell_type": "code",
   "execution_count": 16,
   "metadata": {},
   "outputs": [
    {
     "name": "stdout",
     "output_type": "stream",
     "text": [
      "Probability of positive class = 0.6223776223776224\n",
      "Threshold from Gaussian fit = 2.3218836396741027\n"
     ]
    }
   ],
   "source": [
    "alpha = len(pos_idx)/len(y_test)\n",
    "print('Probability of positive class = {}'.format(alpha))\n",
    "threshold = bisect(cost, neg_mean, pos_mean, args=(pos_fit, neg_fit, alpha)) \n",
    "print('Threshold from Gaussian fit = {}'.format(threshold))"
   ]
  },
  {
   "cell_type": "markdown",
   "metadata": {},
   "source": [
    "Investigate the effect of threshold on accuracy"
   ]
  },
  {
   "cell_type": "code",
   "execution_count": 17,
   "metadata": {},
   "outputs": [],
   "source": [
    "def get_conf_matrix(ypred, ytrue):\n",
    "    \"\"\"get confusion matrix from [0, 1] labels\"\"\"\n",
    "    ypred = np.array(ypred)\n",
    "    ytrue = np.array(ytrue)\n",
    "    tp =  np.sum((ytrue==1) & (ypred==1))\n",
    "    tn =  np.sum((ytrue==0)  & (ypred==0))\n",
    "    fp =  np.sum((ytrue==0)  & (ypred==1))\n",
    "    fn =  np.sum((ytrue==1)  & (ypred==0))\n",
    "    \n",
    "    return np.array([[tp,fp], [fn,tn]])\n",
    "\n",
    "def accuracy(conf):\n",
    "    \"\"\" compute the accuracy, given a confusion matrix conf\n",
    "        format: [[TP, FP], [FN, TN]]\"\"\"\n",
    "    \n",
    "    return (conf[0,0] + conf[1,1]) / np.sum(conf)\n",
    "\n",
    "def score2class(score, thres):\n",
    "    \"\"\"Given a vector of scores, use threshold to predict 0 or 1\n",
    "    when below or above the threshold respectively\"\"\"\n",
    "    pred = np.zeros(len(score), dtype=int)\n",
    "    pos_idx = np.where(score > thres)[0]\n",
    "    pred[pos_idx] = 1\n",
    "    return pred\n"
   ]
  },
  {
   "cell_type": "code",
   "execution_count": 18,
   "metadata": {},
   "outputs": [
    {
     "name": "stdout",
     "output_type": "stream",
     "text": [
      "Accuracy with default threshold = 0.986013986013986\n",
      "Accuracy with Gaussian fit threshold = 0.951048951048951\n"
     ]
    }
   ],
   "source": [
    "pred_default = score2class(score_lr, logreg.intercept_[0])\n",
    "pred_gaussfit = score2class(score_lr, threshold)\n",
    "\n",
    "print('Accuracy with default threshold = {}'.format(accuracy(get_conf_matrix(pred_default, y_test))))\n",
    "print('Accuracy with Gaussian fit threshold = {}'.format(accuracy(get_conf_matrix(pred_gaussfit, y_test))))\n"
   ]
  },
  {
   "cell_type": "code",
   "execution_count": null,
   "metadata": {},
   "outputs": [],
   "source": []
  }
 ],
 "metadata": {
  "kernelspec": {
   "display_name": "Python [conda root]",
   "language": "python",
   "name": "conda-root-py"
  },
  "language_info": {
   "codemirror_mode": {
    "name": "ipython",
    "version": 3
   },
   "file_extension": ".py",
   "mimetype": "text/x-python",
   "name": "python",
   "nbconvert_exporter": "python",
   "pygments_lexer": "ipython3",
   "version": "3.5.6"
  }
 },
 "nbformat": 4,
 "nbformat_minor": 2
}
